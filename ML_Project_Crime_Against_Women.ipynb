{
  "nbformat": 4,
  "nbformat_minor": 0,
  "metadata": {
    "colab": {
      "provenance": [],
      "include_colab_link": true
    },
    "kernelspec": {
      "name": "python3",
      "display_name": "Python 3"
    },
    "language_info": {
      "name": "python"
    }
  },
  "cells": [
    {
      "cell_type": "markdown",
      "metadata": {
        "id": "view-in-github",
        "colab_type": "text"
      },
      "source": [
        "<a href=\"https://colab.research.google.com/github/SNEHA-ABC123/GBC-Risk_Assessment-ML-Project/blob/main/ML_Project_Crime_Against_Women.ipynb\" target=\"_parent\"><img src=\"https://colab.research.google.com/assets/colab-badge.svg\" alt=\"Open In Colab\"/></a>"
      ]
    },
    {
      "cell_type": "code",
      "execution_count": 1,
      "metadata": {
        "id": "lKebMimZ06Nx"
      },
      "outputs": [],
      "source": [
        "import pandas as pd\n",
        "import numpy as np\n",
        "import matplotlib.pyplot as plt\n",
        "import seaborn as sns"
      ]
    },
    {
      "cell_type": "code",
      "source": [
        "from google.colab import drive\n",
        "drive.mount('/content/drive')"
      ],
      "metadata": {
        "colab": {
          "base_uri": "https://localhost:8080/"
        },
        "id": "3Uo3h5yC3wub",
        "outputId": "28f39910-02c9-4517-b54f-e11a8621138f"
      },
      "execution_count": 2,
      "outputs": [
        {
          "output_type": "stream",
          "name": "stdout",
          "text": [
            "Mounted at /content/drive\n"
          ]
        }
      ]
    },
    {
      "cell_type": "code",
      "source": [
        "# Load CSV from Google Drive\n",
        "path = '/content/districtwise-crime-against-women-2017-onwards.csv'\n",
        "df = pd.read_csv(path)"
      ],
      "metadata": {
        "id": "0Rxdw0OX35Pl"
      },
      "execution_count": 4,
      "outputs": []
    },
    {
      "cell_type": "code",
      "source": [
        "# View all column names with indices\n",
        "for i, col in enumerate(df.columns):\n",
        "    print(f\"{i}: {col}\")"
      ],
      "metadata": {
        "colab": {
          "base_uri": "https://localhost:8080/"
        },
        "id": "HkPnI9AC4O4C",
        "outputId": "54baaed5-8ae9-4b11-fbd7-59df92397b3f"
      },
      "execution_count": 5,
      "outputs": [
        {
          "output_type": "stream",
          "name": "stdout",
          "text": [
            "0: id\n",
            "1: year\n",
            "2: state_name\n",
            "3: state_code\n",
            "4: district_name\n",
            "5: district_code\n",
            "6: registration_circles\n",
            "7: murder_with_rape_gang_rape\n",
            "8: dowry_deaths\n",
            "9: abetment_to_suicide_of_women\n",
            "10: miscarriage\n",
            "11: acid_attack\n",
            "12: attempt_to_acid_attack\n",
            "13: cruelty_by_husband_or_his_relatives\n",
            "14: kidnapping_and_abduction\n",
            "15: kidnapping_abduction_in_order_to_murder\n",
            "16: kidnapping_for_ransom\n",
            "17: kidnp_and_abductn_of_women_above_18_for_marrg\n",
            "18: kidnp_and_abductn_of_girls_below_18_for_marrg\n",
            "19: procuration_of_minor_girls\n",
            "20: importation_of_girls_from_foreign\n",
            "21: kidnapping_and_abduction_of_women_others\n",
            "22: human_trafficking\n",
            "23: selling_of_minor_girls\n",
            "24: buying_of_minor_girls\n",
            "25: rape_women_above_18\n",
            "26: rape_girls_below_18\n",
            "27: attempt_to_commit_rape_above_18\n",
            "28: attempt_to_commit_rape_girls_below_18\n",
            "29: assault_on_womenabove_18\n",
            "30: assault_on_women_below_18\n",
            "31: insult_to_the_modesty_of_women_above_18\n",
            "32: insult_to_the_modesty_of_women_below_18\n",
            "33: dowry_prohibition\n",
            "34: procuring_inducing_children_for_the_sake_of_prostitution\n",
            "35: detaining_a_prsn_in_premises_where_prost_is_carried\n",
            "36: prostitution_in_or_in_the_vicinity_of_public_places\n",
            "37: seducing_or_soliciting_for_purpose_of_prostitution\n",
            "38: other_sections_under_itp_act\n",
            "39: protection_of_women_from_domestic_violence\n",
            "40: publshng_or_transmitting_of_sexually_explicit_mtrl\n",
            "41: other_women_centric_cyber_crimes\n",
            "42: child_rape\n",
            "43: sexual_assault_of_children\n",
            "44: child_sexual_harassment\n",
            "45: use_of_child_for_pornography\n",
            "46: offences_of_pocso_act\n",
            "47: pocso_act_unnatural_offences\n",
            "48: indecent_representation_of_women\n"
          ]
        }
      ]
    },
    {
      "cell_type": "code",
      "source": [
        "# Example: Drop district info and columns 42–47\n",
        "columns_to_drop = ['registration_circles' ,'pocso_act_unnatural_offences']\n",
        "df.drop(columns=columns_to_drop, axis=1, inplace=True)"
      ],
      "metadata": {
        "id": "9NVWyms44TSp"
      },
      "execution_count": 11,
      "outputs": []
    },
    {
      "cell_type": "code",
      "source": [
        "# View all updated column names with indices\n",
        "for i, col in enumerate(df.columns):\n",
        "    print(f\"{i}: {col}\")"
      ],
      "metadata": {
        "colab": {
          "base_uri": "https://localhost:8080/"
        },
        "id": "vT_9HitT4vMH",
        "outputId": "68e52a14-1446-4843-ca97-18410875829a"
      },
      "execution_count": 12,
      "outputs": [
        {
          "output_type": "stream",
          "name": "stdout",
          "text": [
            "0: id\n",
            "1: year\n",
            "2: state_name\n",
            "3: state_code\n",
            "4: murder_with_rape_gang_rape\n",
            "5: dowry_deaths\n",
            "6: abetment_to_suicide_of_women\n",
            "7: miscarriage\n",
            "8: acid_attack\n",
            "9: attempt_to_acid_attack\n",
            "10: cruelty_by_husband_or_his_relatives\n",
            "11: kidnapping_and_abduction\n",
            "12: kidnapping_abduction_in_order_to_murder\n",
            "13: kidnapping_for_ransom\n",
            "14: kidnp_and_abductn_of_women_above_18_for_marrg\n",
            "15: kidnp_and_abductn_of_girls_below_18_for_marrg\n",
            "16: procuration_of_minor_girls\n",
            "17: importation_of_girls_from_foreign\n",
            "18: kidnapping_and_abduction_of_women_others\n",
            "19: human_trafficking\n",
            "20: selling_of_minor_girls\n",
            "21: buying_of_minor_girls\n",
            "22: rape_women_above_18\n",
            "23: rape_girls_below_18\n",
            "24: attempt_to_commit_rape_above_18\n",
            "25: attempt_to_commit_rape_girls_below_18\n",
            "26: assault_on_womenabove_18\n",
            "27: assault_on_women_below_18\n",
            "28: insult_to_the_modesty_of_women_above_18\n",
            "29: insult_to_the_modesty_of_women_below_18\n",
            "30: dowry_prohibition\n",
            "31: procuring_inducing_children_for_the_sake_of_prostitution\n",
            "32: detaining_a_prsn_in_premises_where_prost_is_carried\n",
            "33: prostitution_in_or_in_the_vicinity_of_public_places\n",
            "34: seducing_or_soliciting_for_purpose_of_prostitution\n",
            "35: other_sections_under_itp_act\n",
            "36: protection_of_women_from_domestic_violence\n",
            "37: publshng_or_transmitting_of_sexually_explicit_mtrl\n",
            "38: other_women_centric_cyber_crimes\n",
            "39: indecent_representation_of_women\n"
          ]
        }
      ]
    }
  ]
}